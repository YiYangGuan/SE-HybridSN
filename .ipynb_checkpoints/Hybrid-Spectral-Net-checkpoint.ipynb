{
 "cells": [
  {
   "cell_type": "code",
   "execution_count": 1,
   "metadata": {},
   "outputs": [
    {
     "data": {
      "text/html": [
       "        <script type=\"text/javascript\">\n",
       "        window.PlotlyConfig = {MathJaxConfig: 'local'};\n",
       "        if (window.MathJax && window.MathJax.Hub && window.MathJax.Hub.Config) {window.MathJax.Hub.Config({SVG: {font: \"STIX-Web\"}});}\n",
       "        if (typeof require !== 'undefined') {\n",
       "        require.undef(\"plotly\");\n",
       "        requirejs.config({\n",
       "            paths: {\n",
       "                'plotly': ['https://cdn.plot.ly/plotly-2.16.1.min']\n",
       "            }\n",
       "        });\n",
       "        require(['plotly'], function(Plotly) {\n",
       "            window._Plotly = Plotly;\n",
       "        });\n",
       "        }\n",
       "        </script>\n",
       "        "
      ]
     },
     "metadata": {},
     "output_type": "display_data"
    }
   ],
   "source": [
    "import keras\n",
    "from keras.layers import Conv2D, Conv3D, Flatten, Dense, Reshape, BatchNormalization, GlobalAvgPool2D, multiply\n",
    "from keras.layers import Dropout, Input\n",
    "from keras.models import Model\n",
    "from keras.optimizers import adam_v2\n",
    "from keras.callbacks import ModelCheckpoint\n",
    "from keras.utils import np_utils\n",
    "\n",
    "from sklearn.decomposition import PCA\n",
    "from sklearn.model_selection import train_test_split\n",
    "from sklearn.metrics import confusion_matrix, accuracy_score, classification_report, cohen_kappa_score\n",
    "\n",
    "from operator import truediv\n",
    "\n",
    "from plotly.offline import init_notebook_mode\n",
    "\n",
    "import numpy as np\n",
    "import matplotlib.pyplot as plt\n",
    "import scipy.io as sio\n",
    "import os\n",
    "import spectral\n",
    "\n",
    "init_notebook_mode(connected=True)\n",
    "%matplotlib inline"
   ]
  },
  {
   "cell_type": "markdown",
   "metadata": {},
   "source": [
    "# Data Loading"
   ]
  },
  {
   "cell_type": "code",
   "execution_count": 2,
   "metadata": {},
   "outputs": [],
   "source": [
    "## GLOBAL VARIABLES\n",
    "dataset = 'IP'\n",
    "test_ratio = 0.7\n",
    "windowSize = 25"
   ]
  },
  {
   "cell_type": "code",
   "execution_count": 3,
   "metadata": {},
   "outputs": [],
   "source": [
    "def loadData(name):\n",
    "    data_path = os.path.join(os.getcwd(),'data')\n",
    "    if name == 'IP':\n",
    "        data = sio.loadmat(os.path.join(data_path, 'Indian_pines_corrected.mat'))['indian_pines_corrected']\n",
    "        labels = sio.loadmat(os.path.join(data_path, 'Indian_pines_gt.mat'))['indian_pines_gt']\n",
    "    elif name == 'SA':\n",
    "        data = sio.loadmat(os.path.join(data_path, 'Salinas_corrected.mat'))['salinas_corrected']\n",
    "        labels = sio.loadmat(os.path.join(data_path, 'Salinas_gt.mat'))['salinas_gt']\n",
    "    elif name == 'PU':\n",
    "        data = sio.loadmat(os.path.join(data_path, 'PaviaU.mat'))['paviaU']\n",
    "        labels = sio.loadmat(os.path.join(data_path, 'PaviaU_gt.mat'))['paviaU_gt']\n",
    "    \n",
    "    return data, labels"
   ]
  },
  {
   "cell_type": "code",
   "execution_count": 4,
   "metadata": {},
   "outputs": [],
   "source": [
    "def splitTrainTestSet(X, y, testRatio, randomState=345):\n",
    "    X_train, X_test, y_train, y_test = train_test_split(X, y, test_size=testRatio, random_state=randomState,\n",
    "                                                        stratify=y)\n",
    "    return X_train, X_test, y_train, y_test"
   ]
  },
  {
   "cell_type": "code",
   "execution_count": 5,
   "metadata": {},
   "outputs": [],
   "source": [
    "def applyPCA(X, numComponents=75):\n",
    "    newX = np.reshape(X, (-1, X.shape[2]))\n",
    "    pca = PCA(n_components=numComponents, whiten=True)\n",
    "    newX = pca.fit_transform(newX)\n",
    "    newX = np.reshape(newX, (X.shape[0],X.shape[1], numComponents))\n",
    "    return newX, pca"
   ]
  },
  {
   "cell_type": "code",
   "execution_count": 6,
   "metadata": {},
   "outputs": [],
   "source": [
    "def padWithZeros(X, margin=2):\n",
    "    newX = np.zeros((X.shape[0] + 2 * margin, X.shape[1] + 2* margin, X.shape[2]))\n",
    "    x_offset = margin\n",
    "    y_offset = margin\n",
    "    newX[x_offset:X.shape[0] + x_offset, y_offset:X.shape[1] + y_offset, :] = X\n",
    "    return newX"
   ]
  },
  {
   "cell_type": "code",
   "execution_count": 7,
   "metadata": {},
   "outputs": [],
   "source": [
    "def createImageCubes(X, y, windowSize=5, removeZeroLabels = True):\n",
    "    margin = int((windowSize - 1) / 2)\n",
    "    zeroPaddedX = padWithZeros(X, margin=margin)\n",
    "    # split patches\n",
    "    patchesData = np.zeros((X.shape[0] * X.shape[1], windowSize, windowSize, X.shape[2]))\n",
    "    patchesLabels = np.zeros((X.shape[0] * X.shape[1]))\n",
    "    patchIndex = 0\n",
    "    for r in range(margin, zeroPaddedX.shape[0] - margin):\n",
    "        for c in range(margin, zeroPaddedX.shape[1] - margin):\n",
    "            patch = zeroPaddedX[r - margin:r + margin + 1, c - margin:c + margin + 1]   \n",
    "            patchesData[patchIndex, :, :, :] = patch\n",
    "            patchesLabels[patchIndex] = y[r-margin, c-margin]\n",
    "            patchIndex = patchIndex + 1\n",
    "    if removeZeroLabels:\n",
    "        patchesData = patchesData[patchesLabels>0,:,:,:]\n",
    "        patchesLabels = patchesLabels[patchesLabels>0]\n",
    "        patchesLabels -= 1\n",
    "    return patchesData, patchesLabels"
   ]
  },
  {
   "cell_type": "code",
   "execution_count": 8,
   "metadata": {},
   "outputs": [
    {
     "data": {
      "text/plain": [
       "((145, 145, 200), (145, 145))"
      ]
     },
     "execution_count": 8,
     "metadata": {},
     "output_type": "execute_result"
    }
   ],
   "source": [
    "X, y = loadData(dataset)\n",
    "\n",
    "X.shape, y.shape"
   ]
  },
  {
   "cell_type": "code",
   "execution_count": 9,
   "metadata": {},
   "outputs": [],
   "source": [
    "K = X.shape[2]"
   ]
  },
  {
   "cell_type": "code",
   "execution_count": 10,
   "metadata": {},
   "outputs": [
    {
     "data": {
      "text/plain": [
       "(145, 145, 30)"
      ]
     },
     "execution_count": 10,
     "metadata": {},
     "output_type": "execute_result"
    }
   ],
   "source": [
    "K = 30 if dataset == 'IP' else 15\n",
    "X,pca = applyPCA(X,numComponents=K)\n",
    "\n",
    "X.shape"
   ]
  },
  {
   "cell_type": "code",
   "execution_count": 11,
   "metadata": {},
   "outputs": [
    {
     "data": {
      "text/plain": [
       "((10249, 25, 25, 30), (10249,))"
      ]
     },
     "execution_count": 11,
     "metadata": {},
     "output_type": "execute_result"
    }
   ],
   "source": [
    "X, y = createImageCubes(X, y, windowSize=windowSize)\n",
    "\n",
    "X.shape, y.shape"
   ]
  },
  {
   "cell_type": "code",
   "execution_count": 12,
   "metadata": {},
   "outputs": [
    {
     "data": {
      "text/plain": [
       "((3074, 25, 25, 30), (7175, 25, 25, 30), (3074,), (7175,))"
      ]
     },
     "execution_count": 12,
     "metadata": {},
     "output_type": "execute_result"
    }
   ],
   "source": [
    "Xtrain, Xtest, ytrain, ytest = splitTrainTestSet(X, y, test_ratio)\n",
    "\n",
    "Xtrain.shape, Xtest.shape, ytrain.shape, ytest.shape"
   ]
  },
  {
   "cell_type": "code",
   "execution_count": 13,
   "metadata": {},
   "outputs": [
    {
     "data": {
      "text/plain": [
       "((2049, 25, 25, 30), (1025, 25, 25, 30), (2049,), (1025,))"
      ]
     },
     "execution_count": 13,
     "metadata": {},
     "output_type": "execute_result"
    }
   ],
   "source": [
    "Xtrain, Xvalid, ytrain, yvalid = splitTrainTestSet(Xtrain, ytrain, 0.3333)\n",
    "\n",
    "Xtrain.shape, Xvalid.shape, ytrain.shape, yvalid.shape"
   ]
  },
  {
   "cell_type": "markdown",
   "metadata": {},
   "source": [
    "# Model and Training"
   ]
  },
  {
   "cell_type": "code",
   "execution_count": 14,
   "metadata": {},
   "outputs": [
    {
     "data": {
      "text/plain": [
       "(2049, 25, 25, 30, 1)"
      ]
     },
     "execution_count": 14,
     "metadata": {},
     "output_type": "execute_result"
    }
   ],
   "source": [
    "Xtrain = Xtrain.reshape(-1, windowSize, windowSize, K, 1)\n",
    "Xtrain.shape"
   ]
  },
  {
   "cell_type": "code",
   "execution_count": 15,
   "metadata": {},
   "outputs": [
    {
     "data": {
      "text/plain": [
       "(2049, 16)"
      ]
     },
     "execution_count": 15,
     "metadata": {},
     "output_type": "execute_result"
    }
   ],
   "source": [
    "ytrain = np_utils.to_categorical(ytrain)\n",
    "ytrain.shape"
   ]
  },
  {
   "cell_type": "code",
   "execution_count": 16,
   "metadata": {},
   "outputs": [
    {
     "data": {
      "text/plain": [
       "(1025, 25, 25, 30, 1)"
      ]
     },
     "execution_count": 16,
     "metadata": {},
     "output_type": "execute_result"
    }
   ],
   "source": [
    "Xvalid = Xvalid.reshape(-1, windowSize, windowSize, K, 1)\n",
    "Xvalid.shape"
   ]
  },
  {
   "cell_type": "code",
   "execution_count": 17,
   "metadata": {},
   "outputs": [
    {
     "data": {
      "text/plain": [
       "(1025, 16)"
      ]
     },
     "execution_count": 17,
     "metadata": {},
     "output_type": "execute_result"
    }
   ],
   "source": [
    "yvalid = np_utils.to_categorical(yvalid)\n",
    "yvalid.shape"
   ]
  },
  {
   "cell_type": "code",
   "execution_count": 18,
   "metadata": {},
   "outputs": [],
   "source": [
    "S = windowSize\n",
    "L = K\n",
    "output_units = 9 if (dataset == 'PU' or dataset == 'PC') else 16"
   ]
  },
  {
   "cell_type": "code",
   "execution_count": 19,
   "metadata": {},
   "outputs": [
    {
     "name": "stdout",
     "output_type": "stream",
     "text": [
      "(None, 19, 19, 18, 32)\n"
     ]
    }
   ],
   "source": [
    "def se_block(input_feature, ration=4):\n",
    "    channel = input_feature.shape[-1]\n",
    "    se_feature = GlobalAvgPool2D()(input_feature)\n",
    "    se_feature = Reshape((1,1,channel))(se_feature)\n",
    "    se_feature = Dense(channel//ration, activation='relu', kernel_initializer='he_normal', \n",
    "                        use_bias=True, bias_initializer='zeros')(se_feature)\n",
    "    se_feature = Dense(channel, activation='sigmoid', kernel_initializer='he_normal',\n",
    "                        use_bias=True, bias_initializer='zeros', name='weight')(se_feature)\n",
    "    se_feature = multiply([input_feature, se_feature])\n",
    "    return se_feature\n",
    "\n",
    "## input layer\n",
    "input_layer = Input((S, S, L, 1))\n",
    "\n",
    "## convolutional layers\n",
    "conv_layer1 = Conv3D(filters=8, kernel_size=(3, 3, 7), activation='relu')(input_layer)\n",
    "conv_layer2 = Conv3D(filters=16, kernel_size=(3, 3, 5), activation='relu')(conv_layer1)\n",
    "conv_layer3 = Conv3D(filters=32, kernel_size=(3, 3, 3), activation='relu')(conv_layer2)\n",
    "print(conv_layer3.shape)\n",
    "conv3d_shape = conv_layer3.shape\n",
    "conv_layer3_reshape = Reshape((conv3d_shape[1], conv3d_shape[2], conv3d_shape[3]*conv3d_shape[4]))(conv_layer3)\n",
    "# print(conv_layer3_reshape.shape)\n",
    "conv_layer4 = Conv2D(filters=64, kernel_size=(3, 3), activation='relu')(conv_layer3_reshape)\n",
    "se_layer = se_block(conv_layer4)\n",
    "flatten_layer = Flatten()(se_layer)\n",
    "\n",
    "## fully connected layers\n",
    "dense_layer1 = Dense(units=256, activation='relu')(flatten_layer)\n",
    "dense_layer1 = Dropout(0.4)(dense_layer1)\n",
    "dense_layer2 = Dense(units=128, activation='relu')(dense_layer1)\n",
    "dense_layer2 = Dropout(0.4)(dense_layer2)\n",
    "output_layer = Dense(units=output_units, activation='softmax')(dense_layer2)"
   ]
  },
  {
   "cell_type": "code",
   "execution_count": 20,
   "metadata": {},
   "outputs": [],
   "source": [
    "# define the model with input layer and output layer\n",
    "model = Model(inputs=input_layer, outputs=output_layer)"
   ]
  },
  {
   "cell_type": "code",
   "execution_count": 21,
   "metadata": {},
   "outputs": [
    {
     "name": "stdout",
     "output_type": "stream",
     "text": [
      "Model: \"model\"\n",
      "__________________________________________________________________________________________________\n",
      " Layer (type)                   Output Shape         Param #     Connected to                     \n",
      "==================================================================================================\n",
      " input_1 (InputLayer)           [(None, 25, 25, 30,  0           []                               \n",
      "                                 1)]                                                              \n",
      "                                                                                                  \n",
      " conv3d (Conv3D)                (None, 23, 23, 24,   512         ['input_1[0][0]']                \n",
      "                                8)                                                                \n",
      "                                                                                                  \n",
      " conv3d_1 (Conv3D)              (None, 21, 21, 20,   5776        ['conv3d[0][0]']                 \n",
      "                                16)                                                               \n",
      "                                                                                                  \n",
      " conv3d_2 (Conv3D)              (None, 19, 19, 18,   13856       ['conv3d_1[0][0]']               \n",
      "                                32)                                                               \n",
      "                                                                                                  \n",
      " reshape (Reshape)              (None, 19, 19, 576)  0           ['conv3d_2[0][0]']               \n",
      "                                                                                                  \n",
      " conv2d (Conv2D)                (None, 17, 17, 64)   331840      ['reshape[0][0]']                \n",
      "                                                                                                  \n",
      " global_average_pooling2d (Glob  (None, 64)          0           ['conv2d[0][0]']                 \n",
      " alAveragePooling2D)                                                                              \n",
      "                                                                                                  \n",
      " reshape_1 (Reshape)            (None, 1, 1, 64)     0           ['global_average_pooling2d[0][0]'\n",
      "                                                                 ]                                \n",
      "                                                                                                  \n",
      " dense (Dense)                  (None, 1, 1, 16)     1040        ['reshape_1[0][0]']              \n",
      "                                                                                                  \n",
      " weight (Dense)                 (None, 1, 1, 64)     1088        ['dense[0][0]']                  \n",
      "                                                                                                  \n",
      " multiply (Multiply)            (None, 17, 17, 64)   0           ['conv2d[0][0]',                 \n",
      "                                                                  'weight[0][0]']                 \n",
      "                                                                                                  \n",
      " flatten (Flatten)              (None, 18496)        0           ['multiply[0][0]']               \n",
      "                                                                                                  \n",
      " dense_1 (Dense)                (None, 256)          4735232     ['flatten[0][0]']                \n",
      "                                                                                                  \n",
      " dropout (Dropout)              (None, 256)          0           ['dense_1[0][0]']                \n",
      "                                                                                                  \n",
      " dense_2 (Dense)                (None, 128)          32896       ['dropout[0][0]']                \n",
      "                                                                                                  \n",
      " dropout_1 (Dropout)            (None, 128)          0           ['dense_2[0][0]']                \n",
      "                                                                                                  \n",
      " dense_3 (Dense)                (None, 16)           2064        ['dropout_1[0][0]']              \n",
      "                                                                                                  \n",
      "==================================================================================================\n",
      "Total params: 5,124,304\n",
      "Trainable params: 5,124,304\n",
      "Non-trainable params: 0\n",
      "__________________________________________________________________________________________________\n"
     ]
    }
   ],
   "source": [
    "model.summary()"
   ]
  },
  {
   "cell_type": "code",
   "execution_count": 22,
   "metadata": {},
   "outputs": [
    {
     "name": "stderr",
     "output_type": "stream",
     "text": [
      "D:\\anaconda3\\lib\\site-packages\\keras\\optimizer_v2\\adam.py:105: UserWarning:\n",
      "\n",
      "The `lr` argument is deprecated, use `learning_rate` instead.\n",
      "\n"
     ]
    }
   ],
   "source": [
    "# compiling the model\n",
    "adam = adam_v2.Adam(lr=0.001, decay=1e-06)\n",
    "model.compile(loss='categorical_crossentropy', optimizer=adam, metrics=['accuracy'])"
   ]
  },
  {
   "cell_type": "code",
   "execution_count": 23,
   "metadata": {},
   "outputs": [],
   "source": [
    "import tensorflow as tf\n",
    "# checkpoint\n",
    "filepath = \"best-model.hdf5\"\n",
    "checkpoint = ModelCheckpoint(filepath, monitor='accuracy', verbose=1, save_best_only=True, mode='max')\n",
    "tf_callback = tf.keras.callbacks.TensorBoard(log_dir=\"./logs\")\n",
    "callbacks_list = [checkpoint, tf_callback]"
   ]
  },
  {
   "cell_type": "code",
   "execution_count": 24,
   "metadata": {},
   "outputs": [
    {
     "name": "stdout",
     "output_type": "stream",
     "text": [
      "Epoch 1/30\n",
      "9/9 [==============================] - ETA: 0s - loss: 2.6057 - accuracy: 0.1869 \n",
      "Epoch 1: accuracy improved from -inf to 0.18692, saving model to best-model.hdf5\n",
      "9/9 [==============================] - 167s 15s/step - loss: 2.6057 - accuracy: 0.1869 - val_loss: 2.3732 - val_accuracy: 0.2390\n",
      "Epoch 2/30\n",
      "9/9 [==============================] - ETA: 0s - loss: 2.3044 - accuracy: 0.2406 \n",
      "Epoch 2: accuracy improved from 0.18692 to 0.24061, saving model to best-model.hdf5\n",
      "9/9 [==============================] - 141s 16s/step - loss: 2.3044 - accuracy: 0.2406 - val_loss: 2.0108 - val_accuracy: 0.3883\n",
      "Epoch 3/30\n",
      "9/9 [==============================] - ETA: 0s - loss: 2.0226 - accuracy: 0.3289 \n",
      "Epoch 3: accuracy improved from 0.24061 to 0.32894, saving model to best-model.hdf5\n",
      "9/9 [==============================] - 156s 17s/step - loss: 2.0226 - accuracy: 0.3289 - val_loss: 1.5195 - val_accuracy: 0.5210\n",
      "Epoch 4/30\n",
      "9/9 [==============================] - ETA: 0s - loss: 1.5455 - accuracy: 0.4988 \n",
      "Epoch 4: accuracy improved from 0.32894 to 0.49878, saving model to best-model.hdf5\n",
      "9/9 [==============================] - 186s 21s/step - loss: 1.5455 - accuracy: 0.4988 - val_loss: 1.0887 - val_accuracy: 0.6302\n",
      "Epoch 5/30\n",
      "9/9 [==============================] - ETA: 0s - loss: 1.1298 - accuracy: 0.6364 \n",
      "Epoch 5: accuracy improved from 0.49878 to 0.63641, saving model to best-model.hdf5\n",
      "9/9 [==============================] - 173s 19s/step - loss: 1.1298 - accuracy: 0.6364 - val_loss: 0.7705 - val_accuracy: 0.7249\n",
      "Epoch 6/30\n",
      "9/9 [==============================] - ETA: 0s - loss: 0.8197 - accuracy: 0.7208 \n",
      "Epoch 6: accuracy improved from 0.63641 to 0.72084, saving model to best-model.hdf5\n",
      "9/9 [==============================] - 181s 20s/step - loss: 0.8197 - accuracy: 0.7208 - val_loss: 0.5567 - val_accuracy: 0.8039\n",
      "Epoch 7/30\n",
      "9/9 [==============================] - ETA: 0s - loss: 0.5998 - accuracy: 0.8062 \n",
      "Epoch 7: accuracy improved from 0.72084 to 0.80625, saving model to best-model.hdf5\n",
      "9/9 [==============================] - 175s 19s/step - loss: 0.5998 - accuracy: 0.8062 - val_loss: 0.3456 - val_accuracy: 0.8839\n",
      "Epoch 8/30\n",
      "9/9 [==============================] - ETA: 0s - loss: 0.4232 - accuracy: 0.8653 \n",
      "Epoch 8: accuracy improved from 0.80625 to 0.86530, saving model to best-model.hdf5\n",
      "9/9 [==============================] - 159s 18s/step - loss: 0.4232 - accuracy: 0.8653 - val_loss: 0.2161 - val_accuracy: 0.9395\n",
      "Epoch 9/30\n",
      "9/9 [==============================] - ETA: 0s - loss: 0.2803 - accuracy: 0.9102 \n",
      "Epoch 9: accuracy improved from 0.86530 to 0.91020, saving model to best-model.hdf5\n",
      "9/9 [==============================] - 161s 18s/step - loss: 0.2803 - accuracy: 0.9102 - val_loss: 0.1547 - val_accuracy: 0.9512\n",
      "Epoch 10/30\n",
      "9/9 [==============================] - ETA: 0s - loss: 0.1993 - accuracy: 0.9409 \n",
      "Epoch 10: accuracy improved from 0.91020 to 0.94095, saving model to best-model.hdf5\n",
      "9/9 [==============================] - 166s 18s/step - loss: 0.1993 - accuracy: 0.9409 - val_loss: 0.0777 - val_accuracy: 0.9785\n",
      "Epoch 11/30\n",
      "9/9 [==============================] - ETA: 0s - loss: 0.1389 - accuracy: 0.9517 \n",
      "Epoch 11: accuracy improved from 0.94095 to 0.95168, saving model to best-model.hdf5\n",
      "9/9 [==============================] - 156s 17s/step - loss: 0.1389 - accuracy: 0.9517 - val_loss: 0.1146 - val_accuracy: 0.9707\n",
      "Epoch 12/30\n",
      "9/9 [==============================] - ETA: 0s - loss: 0.3038 - accuracy: 0.9078 \n",
      "Epoch 12: accuracy did not improve from 0.95168\n",
      "9/9 [==============================] - 154s 17s/step - loss: 0.3038 - accuracy: 0.9078 - val_loss: 0.1494 - val_accuracy: 0.9600\n",
      "Epoch 13/30\n",
      "9/9 [==============================] - ETA: 0s - loss: 0.2055 - accuracy: 0.9405 \n",
      "Epoch 13: accuracy did not improve from 0.95168\n",
      "9/9 [==============================] - 155s 17s/step - loss: 0.2055 - accuracy: 0.9405 - val_loss: 0.0806 - val_accuracy: 0.9815\n",
      "Epoch 14/30\n",
      "9/9 [==============================] - ETA: 0s - loss: 0.1216 - accuracy: 0.9663 \n",
      "Epoch 14: accuracy improved from 0.95168 to 0.96633, saving model to best-model.hdf5\n",
      "9/9 [==============================] - 158s 17s/step - loss: 0.1216 - accuracy: 0.9663 - val_loss: 0.0525 - val_accuracy: 0.9795\n",
      "Epoch 15/30\n",
      "9/9 [==============================] - ETA: 0s - loss: 0.0885 - accuracy: 0.9751 \n",
      "Epoch 15: accuracy improved from 0.96633 to 0.97511, saving model to best-model.hdf5\n",
      "9/9 [==============================] - 154s 17s/step - loss: 0.0885 - accuracy: 0.9751 - val_loss: 0.0379 - val_accuracy: 0.9883\n",
      "Epoch 16/30\n",
      "9/9 [==============================] - ETA: 0s - loss: 0.0579 - accuracy: 0.9819 \n",
      "Epoch 16: accuracy improved from 0.97511 to 0.98194, saving model to best-model.hdf5\n",
      "9/9 [==============================] - 152s 17s/step - loss: 0.0579 - accuracy: 0.9819 - val_loss: 0.0267 - val_accuracy: 0.9922\n",
      "Epoch 17/30\n",
      "9/9 [==============================] - ETA: 0s - loss: 0.0494 - accuracy: 0.9849 \n",
      "Epoch 17: accuracy improved from 0.98194 to 0.98487, saving model to best-model.hdf5\n",
      "9/9 [==============================] - 153s 17s/step - loss: 0.0494 - accuracy: 0.9849 - val_loss: 0.0376 - val_accuracy: 0.9893\n",
      "Epoch 18/30\n",
      "9/9 [==============================] - ETA: 0s - loss: 0.0452 - accuracy: 0.9883 \n",
      "Epoch 18: accuracy improved from 0.98487 to 0.98829, saving model to best-model.hdf5\n",
      "9/9 [==============================] - 152s 17s/step - loss: 0.0452 - accuracy: 0.9883 - val_loss: 0.0309 - val_accuracy: 0.9922\n",
      "Epoch 19/30\n",
      "9/9 [==============================] - ETA: 0s - loss: 0.0349 - accuracy: 0.9898 \n",
      "Epoch 19: accuracy improved from 0.98829 to 0.98975, saving model to best-model.hdf5\n",
      "9/9 [==============================] - 153s 17s/step - loss: 0.0349 - accuracy: 0.9898 - val_loss: 0.0330 - val_accuracy: 0.9902\n",
      "Epoch 20/30\n",
      "9/9 [==============================] - ETA: 0s - loss: 0.0247 - accuracy: 0.9898 \n",
      "Epoch 20: accuracy did not improve from 0.98975\n",
      "9/9 [==============================] - 152s 17s/step - loss: 0.0247 - accuracy: 0.9898 - val_loss: 0.0395 - val_accuracy: 0.9902\n",
      "Epoch 21/30\n",
      "9/9 [==============================] - ETA: 0s - loss: 0.0280 - accuracy: 0.9917 \n",
      "Epoch 21: accuracy improved from 0.98975 to 0.99170, saving model to best-model.hdf5\n",
      "9/9 [==============================] - 156s 17s/step - loss: 0.0280 - accuracy: 0.9917 - val_loss: 0.0306 - val_accuracy: 0.9932\n",
      "Epoch 22/30\n",
      "9/9 [==============================] - ETA: 0s - loss: 0.0286 - accuracy: 0.9907 \n",
      "Epoch 22: accuracy did not improve from 0.99170\n",
      "9/9 [==============================] - 152s 17s/step - loss: 0.0286 - accuracy: 0.9907 - val_loss: 0.0494 - val_accuracy: 0.9893\n",
      "Epoch 23/30\n",
      "9/9 [==============================] - ETA: 0s - loss: 0.0207 - accuracy: 0.9937 \n",
      "Epoch 23: accuracy improved from 0.99170 to 0.99366, saving model to best-model.hdf5\n",
      "9/9 [==============================] - 153s 17s/step - loss: 0.0207 - accuracy: 0.9937 - val_loss: 0.0651 - val_accuracy: 0.9883\n",
      "Epoch 24/30\n",
      "9/9 [==============================] - ETA: 0s - loss: 0.0285 - accuracy: 0.9912 \n",
      "Epoch 24: accuracy did not improve from 0.99366\n",
      "9/9 [==============================] - 152s 17s/step - loss: 0.0285 - accuracy: 0.9912 - val_loss: 0.0534 - val_accuracy: 0.9883\n",
      "Epoch 25/30\n",
      "9/9 [==============================] - ETA: 0s - loss: 0.0277 - accuracy: 0.9902 \n",
      "Epoch 25: accuracy did not improve from 0.99366\n",
      "9/9 [==============================] - 153s 17s/step - loss: 0.0277 - accuracy: 0.9902 - val_loss: 0.0308 - val_accuracy: 0.9932\n",
      "Epoch 26/30\n",
      "9/9 [==============================] - ETA: 0s - loss: 0.0286 - accuracy: 0.9907 \n",
      "Epoch 26: accuracy did not improve from 0.99366\n",
      "9/9 [==============================] - 152s 17s/step - loss: 0.0286 - accuracy: 0.9907 - val_loss: 0.0445 - val_accuracy: 0.9922\n",
      "Epoch 27/30\n",
      "9/9 [==============================] - ETA: 0s - loss: 0.0314 - accuracy: 0.9932 \n",
      "Epoch 27: accuracy did not improve from 0.99366\n",
      "9/9 [==============================] - 154s 17s/step - loss: 0.0314 - accuracy: 0.9932 - val_loss: 0.0391 - val_accuracy: 0.9912\n",
      "Epoch 28/30\n",
      "9/9 [==============================] - ETA: 0s - loss: 0.0253 - accuracy: 0.9932 \n",
      "Epoch 28: accuracy did not improve from 0.99366\n",
      "9/9 [==============================] - 155s 17s/step - loss: 0.0253 - accuracy: 0.9932 - val_loss: 0.0403 - val_accuracy: 0.9941\n"
     ]
    },
    {
     "name": "stdout",
     "output_type": "stream",
     "text": [
      "Epoch 29/30\n",
      "9/9 [==============================] - ETA: 0s - loss: 0.0247 - accuracy: 0.9907 \n",
      "Epoch 29: accuracy did not improve from 0.99366\n",
      "9/9 [==============================] - 151s 17s/step - loss: 0.0247 - accuracy: 0.9907 - val_loss: 0.0213 - val_accuracy: 0.9961\n",
      "Epoch 30/30\n",
      "9/9 [==============================] - ETA: 0s - loss: 0.0208 - accuracy: 0.9951 \n",
      "Epoch 30: accuracy improved from 0.99366 to 0.99512, saving model to best-model.hdf5\n",
      "9/9 [==============================] - 153s 17s/step - loss: 0.0208 - accuracy: 0.9951 - val_loss: 0.0116 - val_accuracy: 0.9980\n"
     ]
    }
   ],
   "source": [
    "history = model.fit(x=Xtrain, y=ytrain, validation_data=(Xvalid, yvalid), batch_size=256, epochs=30, callbacks=callbacks_list)"
   ]
  },
  {
   "cell_type": "code",
   "execution_count": 25,
   "metadata": {},
   "outputs": [
    {
     "data": {
      "image/png": "[encoded data removed]",
      "text/plain": [
       "<Figure size 504x504 with 1 Axes>"
      ]
     },
     "metadata": {
      "needs_background": "light"
     },
     "output_type": "display_data"
    }
   ],
   "source": [
    "plt.figure(figsize=(7,7))\n",
    "plt.grid()\n",
    "plt.plot(history.history['loss'])\n",
    "plt.plot(history.history['val_loss'])\n",
    "plt.ylabel('Loss')\n",
    "plt.xlabel('Epochs')\n",
    "plt.legend(['Training','Validation'], loc='upper right')\n",
    "plt.savefig(\"loss_curve.pdf\")\n",
    "plt.show()"
   ]
  },
  {
   "cell_type": "code",
   "execution_count": 26,
   "metadata": {},
   "outputs": [
    {
     "data": {
      "image/png": "[encoded data removed]",
      "text/plain": [
       "<Figure size 360x360 with 1 Axes>"
      ]
     },
     "metadata": {
      "needs_background": "light"
     },
     "output_type": "display_data"
    }
   ],
   "source": [
    "plt.figure(figsize=(5,5))\n",
    "plt.ylim(0,1.1)\n",
    "plt.grid()\n",
    "plt.plot(history.history['accuracy'])\n",
    "plt.plot(history.history['val_accuracy'])\n",
    "plt.ylabel('Accuracy')\n",
    "plt.xlabel('Epochs')\n",
    "plt.legend(['Training','Validation'])\n",
    "plt.savefig(\"acc_curve.pdf\")\n",
    "plt.show()"
   ]
  },
  {
   "cell_type": "markdown",
   "metadata": {},
   "source": [
    "# Validation"
   ]
  },
  {
   "cell_type": "code",
   "execution_count": 27,
   "metadata": {},
   "outputs": [],
   "source": [
    "# load best weights\n",
    "model.load_weights(\"best-model.hdf5\")\n",
    "model.compile(loss='categorical_crossentropy', optimizer=adam, metrics=['accuracy'])"
   ]
  },
  {
   "cell_type": "code",
   "execution_count": 28,
   "metadata": {},
   "outputs": [
    {
     "data": {
      "text/plain": [
       "(7175, 25, 25, 30, 1)"
      ]
     },
     "execution_count": 28,
     "metadata": {},
     "output_type": "execute_result"
    }
   ],
   "source": [
    "Xtest = Xtest.reshape(-1, windowSize, windowSize, K, 1)\n",
    "Xtest.shape"
   ]
  },
  {
   "cell_type": "code",
   "execution_count": 29,
   "metadata": {},
   "outputs": [
    {
     "data": {
      "text/plain": [
       "(7175, 16)"
      ]
     },
     "execution_count": 29,
     "metadata": {},
     "output_type": "execute_result"
    }
   ],
   "source": [
    "ytest = np_utils.to_categorical(ytest)\n",
    "ytest.shape"
   ]
  },
  {
   "cell_type": "code",
   "execution_count": 30,
   "metadata": {},
   "outputs": [
    {
     "name": "stdout",
     "output_type": "stream",
     "text": [
      "              precision    recall  f1-score   support\n",
      "\n",
      "           0       1.00      1.00      1.00        32\n",
      "           1       1.00      0.99      0.99      1000\n",
      "           2       0.98      0.99      0.99       581\n",
      "           3       0.99      1.00      1.00       166\n",
      "           4       0.99      0.99      0.99       338\n",
      "           5       0.98      1.00      0.99       511\n",
      "           6       1.00      0.90      0.95        20\n",
      "           7       1.00      1.00      1.00       335\n",
      "           8       1.00      1.00      1.00        14\n",
      "           9       1.00      1.00      1.00       680\n",
      "          10       1.00      0.99      0.99      1719\n",
      "          11       1.00      0.97      0.99       415\n",
      "          12       0.99      0.99      0.99       143\n",
      "          13       1.00      1.00      1.00       886\n",
      "          14       1.00      1.00      1.00       270\n",
      "          15       1.00      0.98      0.99        65\n",
      "\n",
      "    accuracy                           0.99      7175\n",
      "   macro avg       0.99      0.99      0.99      7175\n",
      "weighted avg       0.99      0.99      0.99      7175\n",
      "\n"
     ]
    }
   ],
   "source": [
    "Y_pred_test = model.predict(Xtest)\n",
    "y_pred_test = np.argmax(Y_pred_test, axis=1)\n",
    "\n",
    "classification = classification_report(np.argmax(ytest, axis=1), y_pred_test)\n",
    "print(classification)"
   ]
  },
  {
   "cell_type": "code",
   "execution_count": 31,
   "metadata": {},
   "outputs": [],
   "source": [
    "def AA_andEachClassAccuracy(confusion_matrix):\n",
    "    counter = confusion_matrix.shape[0]\n",
    "    list_diag = np.diag(confusion_matrix)\n",
    "    list_raw_sum = np.sum(confusion_matrix, axis=1)\n",
    "    each_acc = np.nan_to_num(truediv(list_diag, list_raw_sum))\n",
    "    average_acc = np.mean(each_acc)\n",
    "    return each_acc, average_acc"
   ]
  },
  {
   "cell_type": "code",
   "execution_count": 32,
   "metadata": {},
   "outputs": [],
   "source": [
    "def reports (X_test,y_test,name):\n",
    "    #start = time.time()\n",
    "    Y_pred = model.predict(X_test)\n",
    "    y_pred = np.argmax(Y_pred, axis=1)\n",
    "    #end = time.time()\n",
    "    #print(end - start)\n",
    "    if name == 'IP':\n",
    "        target_names = ['Alfalfa', 'Corn-notill', 'Corn-mintill', 'Corn'\n",
    "                        ,'Grass-pasture', 'Grass-trees', 'Grass-pasture-mowed', \n",
    "                        'Hay-windrowed', 'Oats', 'Soybean-notill', 'Soybean-mintill',\n",
    "                        'Soybean-clean', 'Wheat', 'Woods', 'Buildings-Grass-Trees-Drives',\n",
    "                        'Stone-Steel-Towers']\n",
    "    elif name == 'SA':\n",
    "        target_names = ['Brocoli_green_weeds_1','Brocoli_green_weeds_2','Fallow','Fallow_rough_plow','Fallow_smooth',\n",
    "                        'Stubble','Celery','Grapes_untrained','Soil_vinyard_develop','Corn_senesced_green_weeds',\n",
    "                        'Lettuce_romaine_4wk','Lettuce_romaine_5wk','Lettuce_romaine_6wk','Lettuce_romaine_7wk',\n",
    "                        'Vinyard_untrained','Vinyard_vertical_trellis']\n",
    "    elif name == 'PU':\n",
    "        target_names = ['Asphalt','Meadows','Gravel','Trees', 'Painted metal sheets','Bare Soil','Bitumen',\n",
    "                        'Self-Blocking Bricks','Shadows']\n",
    "    \n",
    "    classification = classification_report(np.argmax(y_test, axis=1), y_pred, target_names=target_names)\n",
    "    oa = accuracy_score(np.argmax(y_test, axis=1), y_pred)\n",
    "    confusion = confusion_matrix(np.argmax(y_test, axis=1), y_pred)\n",
    "    each_acc, aa = AA_andEachClassAccuracy(confusion)\n",
    "    kappa = cohen_kappa_score(np.argmax(y_test, axis=1), y_pred)\n",
    "    score = model.evaluate(X_test, y_test, batch_size=32)\n",
    "    Test_Loss =  score[0]*100\n",
    "    Test_accuracy = score[1]*100\n",
    "    \n",
    "    return classification, confusion, Test_Loss, Test_accuracy, oa*100, each_acc*100, aa*100, kappa*100"
   ]
  },
  {
   "cell_type": "code",
   "execution_count": 33,
   "metadata": {},
   "outputs": [
    {
     "name": "stdout",
     "output_type": "stream",
     "text": [
      "225/225 [==============================] - 99s 413ms/step - loss: 0.0326 - accuracy: 0.9937\n"
     ]
    }
   ],
   "source": [
    "classification, confusion, Test_loss, Test_accuracy, oa, each_acc, aa, kappa = reports(Xtest,ytest,dataset)\n",
    "classification = str(classification)\n",
    "confusion = str(confusion)\n",
    "file_name = \"classification_report.txt\"\n",
    "\n",
    "with open(file_name, 'w') as x_file:\n",
    "    x_file.write('{} Test loss (%)'.format(Test_loss))\n",
    "    x_file.write('\\n')\n",
    "    x_file.write('{} Test accuracy (%)'.format(Test_accuracy))\n",
    "    x_file.write('\\n')\n",
    "    x_file.write('\\n')\n",
    "    x_file.write('{} Kappa accuracy (%)'.format(kappa))\n",
    "    x_file.write('\\n')\n",
    "    x_file.write('{} Overall accuracy (%)'.format(oa))\n",
    "    x_file.write('\\n')\n",
    "    x_file.write('{} Average accuracy (%)'.format(aa))\n",
    "    x_file.write('\\n')\n",
    "    x_file.write('\\n')\n",
    "    x_file.write('{}'.format(classification))\n",
    "    x_file.write('\\n')\n",
    "    x_file.write('{}'.format(confusion))"
   ]
  },
  {
   "cell_type": "code",
   "execution_count": 34,
   "metadata": {},
   "outputs": [],
   "source": [
    "def Patch(data,height_index,width_index):\n",
    "    height_slice = slice(height_index, height_index+PATCH_SIZE)\n",
    "    width_slice = slice(width_index, width_index+PATCH_SIZE)\n",
    "    patch = data[height_slice, width_slice, :]\n",
    "    \n",
    "    return patch"
   ]
  },
  {
   "cell_type": "code",
   "execution_count": 35,
   "metadata": {},
   "outputs": [],
   "source": [
    "# load the original image\n",
    "X, y = loadData(dataset)"
   ]
  },
  {
   "cell_type": "code",
   "execution_count": 36,
   "metadata": {},
   "outputs": [],
   "source": [
    "height = y.shape[0]\n",
    "width = y.shape[1]\n",
    "PATCH_SIZE = windowSize\n",
    "numComponents = K"
   ]
  },
  {
   "cell_type": "code",
   "execution_count": 37,
   "metadata": {},
   "outputs": [],
   "source": [
    "X,pca = applyPCA(X, numComponents=numComponents)"
   ]
  },
  {
   "cell_type": "code",
   "execution_count": 38,
   "metadata": {},
   "outputs": [],
   "source": [
    "X = padWithZeros(X, PATCH_SIZE//2)"
   ]
  },
  {
   "cell_type": "code",
   "execution_count": 39,
   "metadata": {},
   "outputs": [],
   "source": [
    "# calculate the predicted image\n",
    "outputs = np.zeros((height,width))\n",
    "for i in range(height):\n",
    "    for j in range(width):\n",
    "        target = int(y[i,j])\n",
    "        if target == 0 :\n",
    "            continue\n",
    "        else :\n",
    "            image_patch=Patch(X,i,j)\n",
    "            X_test_image = image_patch.reshape(1,image_patch.shape[0],image_patch.shape[1], image_patch.shape[2], 1).astype('float32')                                   \n",
    "            prediction = (model.predict(X_test_image))\n",
    "            prediction = np.argmax(prediction, axis=1)\n",
    "            outputs[i][j] = prediction+1"
   ]
  },
  {
   "cell_type": "code",
   "execution_count": 40,
   "metadata": {},
   "outputs": [
    {
     "data": {
      "image/png": "[encoded data removed]",
      "text/plain": [
       "<Figure size 504x504 with 1 Axes>"
      ]
     },
     "metadata": {
      "needs_background": "light"
     },
     "output_type": "display_data"
    }
   ],
   "source": [
    "ground_truth = spectral.imshow(classes = y,figsize =(7,7))"
   ]
  },
  {
   "cell_type": "code",
   "execution_count": 41,
   "metadata": {},
   "outputs": [
    {
     "data": {
      "image/png": "[encoded data removed]",
      "text/plain": [
       "<Figure size 504x504 with 1 Axes>"
      ]
     },
     "metadata": {
      "needs_background": "light"
     },
     "output_type": "display_data"
    }
   ],
   "source": [
    "predict_image = spectral.imshow(classes = outputs.astype(int),figsize =(7,7))"
   ]
  },
  {
   "cell_type": "code",
   "execution_count": 42,
   "metadata": {},
   "outputs": [],
   "source": [
    "spectral.save_rgb(\"predictions.jpg\", outputs.astype(int), colors=spectral.spy_colors)"
   ]
  },
  {
   "cell_type": "markdown",
   "metadata": {},
   "source": [
    "spectral.save_rgb(str(dataset)+\"_ground_truth.jpg\", y, colors=spectral.spy_colors)"
   ]
  }
 ],
 "metadata": {
  "kernelspec": {
   "display_name": "Python 3 (ipykernel)",
   "language": "python",
   "name": "python3"
  },
  "language_info": {
   "codemirror_mode": {
    "name": "ipython",
    "version": 3
   },
   "file_extension": ".py",
   "mimetype": "text/x-python",
   "name": "python",
   "nbconvert_exporter": "python",
   "pygments_lexer": "ipython3",
   "version": "3.9.7"
  }
 },
 "nbformat": 4,
 "nbformat_minor": 2
}
